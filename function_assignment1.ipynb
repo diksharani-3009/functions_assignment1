{
 "cells": [
  {
   "cell_type": "code",
   "execution_count": 1,
   "id": "6bce1cc5-9712-4130-8bf6-8483df16031f",
   "metadata": {},
   "outputs": [],
   "source": [
    "##def keyword is used to create a function"
   ]
  },
  {
   "cell_type": "code",
   "execution_count": 2,
   "id": "ee2865de-80ca-4c8a-bbf2-279ad7f1b72a",
   "metadata": {},
   "outputs": [],
   "source": [
    "##1"
   ]
  },
  {
   "cell_type": "code",
   "execution_count": 9,
   "id": "106b210b-5ba5-4b00-93dd-86bd13281a38",
   "metadata": {},
   "outputs": [],
   "source": [
    "def odd_num():\n",
    "    l1=[]\n",
    "    l=range(1,25)\n",
    "    for i in l:\n",
    "        if i%2!=0:\n",
    "            l1.append(i)\n",
    "    return l1"
   ]
  },
  {
   "cell_type": "code",
   "execution_count": 10,
   "id": "aa3703f8-aa46-4cd6-b851-c1b8348b6a58",
   "metadata": {},
   "outputs": [
    {
     "data": {
      "text/plain": [
       "[1, 3, 5, 7, 9, 11, 13, 15, 17, 19, 21, 23]"
      ]
     },
     "execution_count": 10,
     "metadata": {},
     "output_type": "execute_result"
    }
   ],
   "source": [
    "odd_num()"
   ]
  },
  {
   "cell_type": "code",
   "execution_count": 11,
   "id": "1372ea3e-fd72-4ad6-a52b-cd23c597349e",
   "metadata": {},
   "outputs": [],
   "source": [
    "##2"
   ]
  },
  {
   "cell_type": "code",
   "execution_count": 12,
   "id": "af84fe6f-fda9-43e2-a11c-ab7b9b8a8eb8",
   "metadata": {},
   "outputs": [],
   "source": [
    "## *args is used to enter n number of arguments and store that in tuples"
   ]
  },
  {
   "cell_type": "code",
   "execution_count": 13,
   "id": "de610c52-38b7-4841-b888-e1010cd81e11",
   "metadata": {},
   "outputs": [],
   "source": [
    "## **kwargs is used to pass key value pair and is stored in dict type "
   ]
  },
  {
   "cell_type": "code",
   "execution_count": 14,
   "id": "a34df6f4-3c73-4fd8-8d9c-dbe3c27341fb",
   "metadata": {},
   "outputs": [],
   "source": [
    "def test1(*args):\n",
    "    return args"
   ]
  },
  {
   "cell_type": "code",
   "execution_count": 16,
   "id": "349d2dc6-8fab-4b74-9782-92db2bdd2415",
   "metadata": {},
   "outputs": [
    {
     "data": {
      "text/plain": [
       "(1, 2, 3, 5, 6, 7, 8, 9, 55)"
      ]
     },
     "execution_count": 16,
     "metadata": {},
     "output_type": "execute_result"
    }
   ],
   "source": [
    "test1(1,2,3,5,6,7,8,9,55)"
   ]
  },
  {
   "cell_type": "code",
   "execution_count": 23,
   "id": "42ec6e7f-253d-4193-87e6-67a97609d779",
   "metadata": {},
   "outputs": [
    {
     "data": {
      "text/plain": [
       "tuple"
      ]
     },
     "execution_count": 23,
     "metadata": {},
     "output_type": "execute_result"
    }
   ],
   "source": [
    "type(test1())"
   ]
  },
  {
   "cell_type": "code",
   "execution_count": 17,
   "id": "b8c2dc35-d207-4d35-ba3c-79cd3c846124",
   "metadata": {},
   "outputs": [],
   "source": [
    "def test2(**kwargs):\n",
    "    return kwargs"
   ]
  },
  {
   "cell_type": "code",
   "execution_count": 22,
   "id": "5d0c6767-6ea6-4f6a-a6e8-d630a6198c3d",
   "metadata": {},
   "outputs": [
    {
     "data": {
      "text/plain": [
       "{'name': 'diksha', 'roll': 45}"
      ]
     },
     "execution_count": 22,
     "metadata": {},
     "output_type": "execute_result"
    }
   ],
   "source": [
    "test2(name=\"diksha\",roll=45)"
   ]
  },
  {
   "cell_type": "code",
   "execution_count": 24,
   "id": "4df2c991-50a8-4042-a626-197c1219c327",
   "metadata": {},
   "outputs": [
    {
     "data": {
      "text/plain": [
       "dict"
      ]
     },
     "execution_count": 24,
     "metadata": {},
     "output_type": "execute_result"
    }
   ],
   "source": [
    "type(test2())"
   ]
  },
  {
   "cell_type": "code",
   "execution_count": 26,
   "id": "02d27d24-e274-4001-b3a1-f82dca5fb686",
   "metadata": {},
   "outputs": [],
   "source": [
    "#3"
   ]
  },
  {
   "cell_type": "code",
   "execution_count": 27,
   "id": "0f35ce3e-11b9-4431-9ddb-be2842ade72c",
   "metadata": {},
   "outputs": [
    {
     "data": {
      "text/plain": [
       "'iterator is s an object that allows traversal through\\nelements of a collection or sequence. It provides a way \\nto access the individual elements of a container'"
      ]
     },
     "execution_count": 27,
     "metadata": {},
     "output_type": "execute_result"
    }
   ],
   "source": [
    "\"\"\"iterator is s an object that allows traversal through\n",
    "elements of a collection or sequence. It provides a way \n",
    "to access the individual elements of a container\"\"\""
   ]
  },
  {
   "cell_type": "code",
   "execution_count": 28,
   "id": "48817968-1792-4298-9a78-fc27bae60f90",
   "metadata": {},
   "outputs": [],
   "source": [
    "## method used to intilize is is iter()"
   ]
  },
  {
   "cell_type": "code",
   "execution_count": 29,
   "id": "630ce207-32ac-4084-ac73-1934876fc64d",
   "metadata": {},
   "outputs": [],
   "source": [
    "## method used for iteration is next()"
   ]
  },
  {
   "cell_type": "code",
   "execution_count": 40,
   "id": "041660aa-c277-4268-925e-3937e75f70e2",
   "metadata": {},
   "outputs": [],
   "source": [
    "l=[2,4,6,8,10,12,14,16,18,20]"
   ]
  },
  {
   "cell_type": "code",
   "execution_count": 55,
   "id": "c521cf46-124e-43a7-9c0f-755f6eb61e77",
   "metadata": {},
   "outputs": [],
   "source": [
    "l1= iter(l)"
   ]
  },
  {
   "cell_type": "code",
   "execution_count": 56,
   "id": "23a7522b-d1eb-4198-ac63-3725c656345b",
   "metadata": {},
   "outputs": [
    {
     "data": {
      "text/plain": [
       "2"
      ]
     },
     "execution_count": 56,
     "metadata": {},
     "output_type": "execute_result"
    }
   ],
   "source": [
    "next(l1)"
   ]
  },
  {
   "cell_type": "code",
   "execution_count": 57,
   "id": "fecb1abd-ef69-442a-8cd7-1c2e7adc8ca5",
   "metadata": {},
   "outputs": [
    {
     "data": {
      "text/plain": [
       "4"
      ]
     },
     "execution_count": 57,
     "metadata": {},
     "output_type": "execute_result"
    }
   ],
   "source": [
    "next(l1)"
   ]
  },
  {
   "cell_type": "code",
   "execution_count": 58,
   "id": "67668976-a8a2-4cfd-a556-cbe9686ba459",
   "metadata": {},
   "outputs": [
    {
     "data": {
      "text/plain": [
       "6"
      ]
     },
     "execution_count": 58,
     "metadata": {},
     "output_type": "execute_result"
    }
   ],
   "source": [
    "next(l1)"
   ]
  },
  {
   "cell_type": "code",
   "execution_count": 61,
   "id": "4af607f3-c18f-48a4-a66c-0c5cafd7b33d",
   "metadata": {},
   "outputs": [
    {
     "data": {
      "text/plain": [
       "8"
      ]
     },
     "execution_count": 61,
     "metadata": {},
     "output_type": "execute_result"
    }
   ],
   "source": [
    "next(l1)"
   ]
  },
  {
   "cell_type": "code",
   "execution_count": 62,
   "id": "47a8b093-cb3b-4d41-9901-69504070530e",
   "metadata": {},
   "outputs": [
    {
     "data": {
      "text/plain": [
       "10"
      ]
     },
     "execution_count": 62,
     "metadata": {},
     "output_type": "execute_result"
    }
   ],
   "source": [
    "next(l1)"
   ]
  },
  {
   "cell_type": "code",
   "execution_count": 63,
   "id": "4099c218-a3a5-44a1-b9a2-cfdfdffd0836",
   "metadata": {},
   "outputs": [],
   "source": [
    "##4"
   ]
  },
  {
   "cell_type": "code",
   "execution_count": 64,
   "id": "f76a8441-6fac-42c7-9a83-81820aacf9f6",
   "metadata": {},
   "outputs": [
    {
     "data": {
      "text/plain": [
       "' a generator function is a special type of function that generates a sequence of values or objects using the yield keyword'"
      ]
     },
     "execution_count": 64,
     "metadata": {},
     "output_type": "execute_result"
    }
   ],
   "source": [
    "\"\"\" a generator function is a special type of function that generates a sequence of values or objects using the yield keyword\"\"\""
   ]
  },
  {
   "cell_type": "code",
   "execution_count": 65,
   "id": "90995b24-4298-40d1-9606-28d7f4c5e3af",
   "metadata": {},
   "outputs": [
    {
     "data": {
      "text/plain": [
       "'The yield keyword is used within a generator function to define points at which the function will yield a value.'"
      ]
     },
     "execution_count": 65,
     "metadata": {},
     "output_type": "execute_result"
    }
   ],
   "source": [
    "\"\"\"The yield keyword is used within a generator function to define points at which the function will yield a value.\"\"\""
   ]
  },
  {
   "cell_type": "code",
   "execution_count": 66,
   "id": "c814f2f6-f51e-461a-a5e5-dce86296ce3d",
   "metadata": {},
   "outputs": [],
   "source": [
    "def test_fib1():\n",
    "    a,b=0,1\n",
    "    while True:\n",
    "        yield a\n",
    "        a,b=b,a+b"
   ]
  },
  {
   "cell_type": "code",
   "execution_count": 67,
   "id": "4a76389c-3b0f-456f-a201-a3c70cf4bdb2",
   "metadata": {},
   "outputs": [],
   "source": [
    "fib= test_fib1()"
   ]
  },
  {
   "cell_type": "code",
   "execution_count": 68,
   "id": "ad01fc2e-80c7-498b-a473-697c486dc67c",
   "metadata": {},
   "outputs": [
    {
     "name": "stdout",
     "output_type": "stream",
     "text": [
      "0\n",
      "1\n",
      "1\n",
      "2\n",
      "3\n",
      "5\n",
      "8\n",
      "13\n",
      "21\n",
      "34\n"
     ]
    }
   ],
   "source": [
    "for i in range(10):\n",
    "    print(next(fib))"
   ]
  },
  {
   "cell_type": "code",
   "execution_count": 69,
   "id": "715a8564-ebd0-4f83-a2ea-e4507d5515c5",
   "metadata": {},
   "outputs": [],
   "source": [
    "##5"
   ]
  },
  {
   "cell_type": "code",
   "execution_count": 115,
   "id": "ef6d4b59-efa6-4ea8-b239-fbf40482efef",
   "metadata": {},
   "outputs": [],
   "source": [
    "def prime_generator():\n",
    "    primes = []\n",
    "    num = 2\n",
    "\n",
    "    while num < 1000:\n",
    "        is_prime = True\n",
    "        for prime in primes:\n",
    "            if num % prime == 0:\n",
    "                is_prime = False\n",
    "                break\n",
    "            if prime * prime > num:\n",
    "                break\n",
    "        if is_prime:\n",
    "            primes.append(num)\n",
    "            yield num\n",
    "        num += 1          "
   ]
  },
  {
   "cell_type": "code",
   "execution_count": 116,
   "id": "3153b8c3-a448-4aa7-a294-dd6fe48b856c",
   "metadata": {},
   "outputs": [
    {
     "name": "stdout",
     "output_type": "stream",
     "text": [
      "2\n",
      "3\n",
      "5\n",
      "7\n",
      "11\n",
      "13\n",
      "17\n",
      "19\n",
      "23\n",
      "29\n",
      "31\n",
      "37\n",
      "41\n",
      "43\n",
      "47\n",
      "53\n",
      "59\n",
      "61\n",
      "67\n",
      "71\n"
     ]
    }
   ],
   "source": [
    "generator = prime_generator()\n",
    "for _ in range(20):\n",
    "    print(next(generator))"
   ]
  },
  {
   "cell_type": "code",
   "execution_count": 79,
   "id": "3a26616b-c0a4-4b87-82a6-6c59bee42678",
   "metadata": {},
   "outputs": [],
   "source": [
    "##6"
   ]
  },
  {
   "cell_type": "code",
   "execution_count": 81,
   "id": "9213d53f-f42b-4959-b7d6-9ad56279f29e",
   "metadata": {},
   "outputs": [
    {
     "name": "stdout",
     "output_type": "stream",
     "text": [
      "0\n",
      "1\n",
      "1\n",
      "2\n",
      "3\n",
      "5\n",
      "8\n",
      "13\n",
      "21\n",
      "34\n",
      "55\n"
     ]
    }
   ],
   "source": [
    "a,b=0,1\n",
    "while i<=10:\n",
    "    print(a)\n",
    "    a,b=b,a+b\n",
    "    i=i+1"
   ]
  },
  {
   "cell_type": "code",
   "execution_count": 82,
   "id": "9a5288f6-59b3-4395-8a37-afc038265558",
   "metadata": {},
   "outputs": [],
   "source": [
    "##7"
   ]
  },
  {
   "cell_type": "code",
   "execution_count": 83,
   "id": "b421477b-f854-41c1-be9a-a5f68c65016e",
   "metadata": {},
   "outputs": [],
   "source": [
    "s=\"pwskills\""
   ]
  },
  {
   "cell_type": "code",
   "execution_count": 85,
   "id": "dd9de677-b18e-49ec-837b-c2d1f3bfadc7",
   "metadata": {},
   "outputs": [
    {
     "data": {
      "text/plain": [
       "['p', 'w', 's', 'k', 'i', 'l', 'l', 's']"
      ]
     },
     "execution_count": 85,
     "metadata": {},
     "output_type": "execute_result"
    }
   ],
   "source": [
    "list(map(lambda x : x,s))"
   ]
  },
  {
   "cell_type": "code",
   "execution_count": 86,
   "id": "28d45df3-667e-4ec7-8b2b-ca5f8a635998",
   "metadata": {},
   "outputs": [],
   "source": [
    "##8"
   ]
  },
  {
   "cell_type": "code",
   "execution_count": 96,
   "id": "7300355f-fb1d-4721-ac7a-6cda83766ad1",
   "metadata": {},
   "outputs": [
    {
     "name": "stdin",
     "output_type": "stream",
     "text": [
      "enter a number 141\n"
     ]
    },
    {
     "name": "stdout",
     "output_type": "stream",
     "text": [
      "141 given number is palindrome\n"
     ]
    }
   ],
   "source": [
    "num=int(input(\"enter a number\"))\n",
    "s=0\n",
    "no=num\n",
    "while num > 0:\n",
    "    d=num%10\n",
    "    s=(s*10)+d\n",
    "    num=num//10\n",
    "if s==no:\n",
    "    print(f\"{no} given number is palindrome\")"
   ]
  },
  {
   "cell_type": "code",
   "execution_count": 97,
   "id": "6d4daaa0-eaa2-4e94-aff8-ca54d37cc700",
   "metadata": {},
   "outputs": [],
   "source": [
    "##9"
   ]
  },
  {
   "cell_type": "code",
   "execution_count": 101,
   "id": "1a513484-8cb6-442b-b6dc-74a0e0c2a62b",
   "metadata": {},
   "outputs": [
    {
     "data": {
      "text/plain": [
       "[1,\n",
       " 3,\n",
       " 5,\n",
       " 7,\n",
       " 9,\n",
       " 11,\n",
       " 13,\n",
       " 15,\n",
       " 17,\n",
       " 19,\n",
       " 21,\n",
       " 23,\n",
       " 25,\n",
       " 27,\n",
       " 29,\n",
       " 31,\n",
       " 33,\n",
       " 35,\n",
       " 37,\n",
       " 39,\n",
       " 41,\n",
       " 43,\n",
       " 45,\n",
       " 47,\n",
       " 49,\n",
       " 51,\n",
       " 53,\n",
       " 55,\n",
       " 57,\n",
       " 59,\n",
       " 61,\n",
       " 63,\n",
       " 65,\n",
       " 67,\n",
       " 69,\n",
       " 71,\n",
       " 73,\n",
       " 75,\n",
       " 77,\n",
       " 79,\n",
       " 81,\n",
       " 83,\n",
       " 85,\n",
       " 87,\n",
       " 89,\n",
       " 91,\n",
       " 93,\n",
       " 95,\n",
       " 97,\n",
       " 99]"
      ]
     },
     "execution_count": 101,
     "metadata": {},
     "output_type": "execute_result"
    }
   ],
   "source": [
    "list(filter(lambda n : n%2!=0 , range(1,100)))"
   ]
  },
  {
   "cell_type": "code",
   "execution_count": null,
   "id": "6cdb8f82-e91f-4461-86bd-0a0e313c947f",
   "metadata": {},
   "outputs": [],
   "source": []
  }
 ],
 "metadata": {
  "kernelspec": {
   "display_name": "Python 3 (ipykernel)",
   "language": "python",
   "name": "python3"
  },
  "language_info": {
   "codemirror_mode": {
    "name": "ipython",
    "version": 3
   },
   "file_extension": ".py",
   "mimetype": "text/x-python",
   "name": "python",
   "nbconvert_exporter": "python",
   "pygments_lexer": "ipython3",
   "version": "3.10.8"
  }
 },
 "nbformat": 4,
 "nbformat_minor": 5
}
